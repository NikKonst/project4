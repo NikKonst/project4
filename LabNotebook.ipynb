{
 "cells": [
  {
   "cell_type": "markdown",
   "metadata": {},
   "source": [
    "# Project #4. “Tardigrades: from genestealers to space marines”\n",
    "\n",
    "**Day 1. 23.01.2021**"
   ]
  },
  {
   "cell_type": "markdown",
   "metadata": {
    "collapsed": true
   },
   "source": [
    "# Obtaining data"
   ]
  },
  {
   "cell_type": "markdown",
   "metadata": {},
   "source": [
    "Dowload assembled genome: `wget http://kumamushi.org/data/YOKOZUNA-1.scaffolds.fa`"
   ]
  },
  {
   "cell_type": "markdown",
   "metadata": {},
   "source": [
    "# Functional annotation\n",
    "\n",
    "We used https://github.com/tejashree1modak/AUGUSTUS-helpers to obtain protein coding sequences\n",
    "\n",
    "`bash get-fasta.sh augustus.whole.gff`\n",
    "\n",
    "And count number of sequences:\n",
    "\n",
    "`grep -c \">\" protein.fasta`\n",
    "\n",
    "Output: `16435`"
   ]
  },
  {
   "cell_type": "markdown",
   "metadata": {
    "pycharm": {
     "name": "#%% md\n"
    }
   },
   "source": [
    "# Physical localization\n",
    "\n",
    "Create blast database and do a local blast search\n",
    "\n",
    "`makeblastdb -in protein.fasta -blastdb_version 5 -dbtype prot`\n",
    "\n",
    "`blastp -db protein.fasta -query peptides.fa -out results.out`\n",
    "\n",
    "As result we have:"
   ]
  },
  {
   "cell_type": "code",
   "execution_count": null,
   "outputs": [],
   "source": [
    "import pandas as pd\n",
    "df = pd.read_csv('data/results.out', sep='\\t', comment='#', header=None)\n",
    "s = 'qacc sacc evalue qstart qend sstart send'\n",
    "df.columns = s.split(' ')\n",
    "df.head()\n"
   ],
   "metadata": {
    "collapsed": false,
    "pycharm": {
     "name": "#%%\n"
    }
   }
  },
  {
   "cell_type": "code",
   "execution_count": null,
   "outputs": [],
   "source": [
    "df.shape"
   ],
   "metadata": {
    "collapsed": false,
    "pycharm": {
     "name": "#%%\n"
    }
   }
  },
  {
   "cell_type": "markdown",
   "source": [
    "118 proteins"
   ],
   "metadata": {
    "collapsed": false
   }
  },
  {
   "cell_type": "markdown",
   "source": [
    "# Localization prediction\n",
    "\n",
    "First, extract protein sequences:"
   ],
   "metadata": {
    "collapsed": false
   }
  },
  {
   "cell_type": "code",
   "execution_count": null,
   "outputs": [],
   "source": [
    "p = ''\n",
    "get = False\n",
    "\n",
    "with open('data/protein_f.fasta', 'w') as f_w:\n",
    "    with open('data/protein.fasta', 'r') as f:\n",
    "        for l in f:\n",
    "            if l[0] == '>':\n",
    "                if l[1:-1] in df.sacc.values:\n",
    "                    get = True\n",
    "                    p = l\n",
    "            else:\n",
    "                if get:\n",
    "                    f_w.write(p)\n",
    "                    f_w.write(l)\n",
    "                    get = False"
   ],
   "metadata": {
    "collapsed": false,
    "pycharm": {
     "name": "#%%\n"
    }
   }
  },
  {
   "cell_type": "markdown",
   "source": [
    "Result:\n",
    "\n",
    "`grep -c \">\" protein_f.fasta`\n",
    "\n",
    "Output: `34`\n",
    "\n",
    "34 proteins"
   ],
   "metadata": {
    "collapsed": false
   }
  },
  {
   "cell_type": "markdown",
   "source": [
    "## WoLF PSORT\n",
    "\n",
    "Input:\n",
    "\n",
    "<img src=\"imgs/wolf.png\">\n",
    "\n",
    "Result:\n",
    "\n",
    "```\n",
    "g702 details extr: 29, plas: 2, lyso: 1 \n",
    "g1285 details extr: 25, plas: 5, mito: 1, lyso: 1 \n",
    "g2203 details plas: 29, nucl: 2, golg: 1 g3428 details mito: 18, cyto: 11, extr: 2, nucl: 1 \n",
    "g3679 details extr: 26, mito: 2, lyso: 2, plas: 1, E.R.: 1 \n",
    "g4106 details E.R.: 14.5, E.R._golg: 9.5, extr: 7, golg: 3.5, lyso: 3, pero: 2, plas: 1, mito: 1 \n",
    "g4970 details plas: 32 \n",
    "g5237 details plas: 24, mito: 8 \n",
    "g5443 details extr: 28, nucl: 3, cyto: 1 \n",
    "g5467 details extr: 27, plas: 4, mito: 1 \n",
    "g5502 details extr: 31, lyso: 1 \n",
    "g5503 details extr: 29, plas: 1, mito: 1, lyso: 1 \n",
    "g5510 details plas: 23, mito: 7, E.R.: 1, golg: 1 \n",
    "g5616 details extr: 31, mito: 1 \n",
    "g5641 details extr: 31, lyso: 1 \n",
    "g5927 details nucl: 30.5, cyto_nucl: 16.5, cyto: 1.5 \n",
    "g7861 details nucl: 16, cyto_nucl: 14, cyto: 8, plas: 5, pero: 1, cysk: 1, golg: 1 \n",
    "g8100 details nucl: 16.5, cyto_nucl: 12.5, cyto: 7.5, plas: 5, extr: 2, E.R.: 1 \n",
    "g8312 details nucl: 15.5, cyto_nucl: 15.5, cyto: 12.5, mito: 2, plas: 1, golg: 1 \n",
    "g10513 details nucl: 20, cyto_nucl: 14.5, cyto: 7, extr: 3, E.R.: 1, golg: 1 \n",
    "g10514 details nucl: 19, cyto_nucl: 15, cyto: 9, extr: 3, mito: 1 \n",
    "g11320 details plas: 24.5, extr_plas: 16, extr: 6.5, lyso: 1 \n",
    "g11513 details cyto: 17, cyto_nucl: 12.8333, cyto_mito: 9.83333, nucl: 7.5, E.R.: 3, mito: 1.5, plas: 1, pero: 1, golg: 1 \n",
    "g11806 details nucl: 18, cyto_nucl: 11.8333, mito: 5, extr: 4, cyto: 3.5, cyto_pero: 2.66667, cysk_plas: 1 \n",
    "g11960 details nucl: 32 \n",
    "g12388 details extr: 25, plas: 4, mito: 2, lyso: 1 \n",
    "g12510 details plas: 29, cyto: 3 g12562 details extr: 30, lyso: 2 g13530 details extr: 13, nucl: 6.5, lyso: 5, cyto_nucl: 4.5, plas: 3, E.R.: 3, cyto: 1.5 g14472 details nucl: 28, plas: 2, cyto: 1, cysk: 1 \n",
    "g15153 details extr: 32 \n",
    "g15484 details nucl: 17.5, cyto_nucl: 15.3333, cyto: 12, cyto_mito: 6.83333, plas: 1, golg: 1 \n",
    "g16318 details nucl: 20.5, cyto_nucl: 13, extr: 5, cyto: 4.5, E.R.: 1, golg: 1 \n",
    "g16368 details nucl: 20.5, cyto_nucl: 13, extr: 5, cyto: 4.5, E.R.: 1, golg: 1\n",
    "```"
   ],
   "metadata": {
    "collapsed": false
   }
  },
  {
   "cell_type": "markdown",
   "source": [
    "## TargetP\n",
    "\n",
    "Input:\n",
    "\n",
    "<img src=\"imgs/tarpetp.png\">\n",
    "\n",
    "Output:\n",
    "\n",
    "http://www.cbs.dtu.dk/cgi-bin/webface2.fcgi?jobid=603B662900007740714C3A10&wait=20"
   ],
   "metadata": {
    "collapsed": false
   }
  },
  {
   "cell_type": "markdown",
   "source": [
    "## BLAST search\n",
    "\n",
    "Input:\n",
    "\n",
    "<img src=\"imgs/blast.png\">\n",
    "\n",
    "Result:\n",
    "\n",
    "https://blast.ncbi.nlm.nih.gov/Blast.cgi?CMD=Web&PAGE_TYPE=BlastSearch&VIEW_SEARCH=on&UNIQ_SEARCH_NAME=A_SearchOptions_1lGKSJ_XC8_dpnwYp5E25R_GTXQl_S1duU"
   ],
   "metadata": {
    "collapsed": false
   }
  },
  {
   "cell_type": "markdown",
   "source": [
    "## Pfam prediction\n",
    "\n",
    "Input:\n",
    "\n",
    "<img src=\"imgs/pfam.png\">\n",
    "\n",
    "Result:\n",
    "\n",
    "https://www.ebi.ac.uk/Tools/hmmer/results/CBB33FA8-79B9-11EB-A762-350ADCC3747A/score\n",
    "\n",
    "<img src=\"imgs/pfamr.png\">"
   ],
   "metadata": {
    "collapsed": false
   }
  },
  {
   "cell_type": "markdown",
   "source": [
    "# Results\n",
    "\n",
    "Next, we combine all results in one table and have next table:"
   ],
   "metadata": {
    "collapsed": false
   }
  },
  {
   "cell_type": "code",
   "execution_count": null,
   "outputs": [],
   "source": [
    "df_r = pd.read_csv('data/result.csv')\n",
    "df_r"
   ],
   "metadata": {
    "collapsed": false,
    "pycharm": {
     "name": "#%%\n"
    }
   }
  },
  {
   "cell_type": "code",
   "execution_count": null,
   "outputs": [],
   "source": [],
   "metadata": {
    "collapsed": false,
    "pycharm": {
     "name": "#%%\n"
    }
   }
  },
  {
   "cell_type": "code",
   "execution_count": 3,
   "metadata": {},
   "outputs": [
    {
     "data": {
      "text/html": [
       "<div>\n",
       "<style scoped>\n",
       "    .dataframe tbody tr th:only-of-type {\n",
       "        vertical-align: middle;\n",
       "    }\n",
       "\n",
       "    .dataframe tbody tr th {\n",
       "        vertical-align: top;\n",
       "    }\n",
       "\n",
       "    .dataframe thead th {\n",
       "        text-align: right;\n",
       "    }\n",
       "</style>\n",
       "<table border=\"1\" class=\"dataframe\">\n",
       "  <thead>\n",
       "    <tr style=\"text-align: right;\">\n",
       "      <th></th>\n",
       "      <th>qacc</th>\n",
       "      <th>sacc</th>\n",
       "      <th>evalue</th>\n",
       "      <th>qstart</th>\n",
       "      <th>qend</th>\n",
       "      <th>sstart</th>\n",
       "      <th>send</th>\n",
       "    </tr>\n",
       "  </thead>\n",
       "  <tbody>\n",
       "    <tr>\n",
       "      <th>0</th>\n",
       "      <td>pept_1_score_48</td>\n",
       "      <td>g5641</td>\n",
       "      <td>2.0</td>\n",
       "      <td>1</td>\n",
       "      <td>9</td>\n",
       "      <td>25</td>\n",
       "      <td>33</td>\n",
       "    </tr>\n",
       "    <tr>\n",
       "      <th>1</th>\n",
       "      <td>pept_1_score_48</td>\n",
       "      <td>g15153</td>\n",
       "      <td>2.1</td>\n",
       "      <td>1</td>\n",
       "      <td>9</td>\n",
       "      <td>25</td>\n",
       "      <td>33</td>\n",
       "    </tr>\n",
       "    <tr>\n",
       "      <th>2</th>\n",
       "      <td>pept_2_score_65</td>\n",
       "      <td>g5641</td>\n",
       "      <td>1.5</td>\n",
       "      <td>1</td>\n",
       "      <td>9</td>\n",
       "      <td>36</td>\n",
       "      <td>44</td>\n",
       "    </tr>\n",
       "    <tr>\n",
       "      <th>3</th>\n",
       "      <td>pept_2_score_65</td>\n",
       "      <td>g12562</td>\n",
       "      <td>3.3</td>\n",
       "      <td>1</td>\n",
       "      <td>9</td>\n",
       "      <td>36</td>\n",
       "      <td>44</td>\n",
       "    </tr>\n",
       "    <tr>\n",
       "      <th>4</th>\n",
       "      <td>pept_2_score_65</td>\n",
       "      <td>g5616</td>\n",
       "      <td>6.7</td>\n",
       "      <td>1</td>\n",
       "      <td>9</td>\n",
       "      <td>36</td>\n",
       "      <td>44</td>\n",
       "    </tr>\n",
       "  </tbody>\n",
       "</table>\n",
       "</div>"
      ],
      "text/plain": [
       "              qacc    sacc  evalue  qstart  qend  sstart  send\n",
       "0  pept_1_score_48   g5641     2.0       1     9      25    33\n",
       "1  pept_1_score_48  g15153     2.1       1     9      25    33\n",
       "2  pept_2_score_65   g5641     1.5       1     9      36    44\n",
       "3  pept_2_score_65  g12562     3.3       1     9      36    44\n",
       "4  pept_2_score_65   g5616     6.7       1     9      36    44"
      ]
     },
     "execution_count": 3,
     "metadata": {},
     "output_type": "execute_result"
    }
   ],
   "source": []
  },
  {
   "cell_type": "code",
   "execution_count": 4,
   "metadata": {},
   "outputs": [
    {
     "data": {
      "text/plain": [
       "(118, 7)"
      ]
     },
     "execution_count": 4,
     "metadata": {},
     "output_type": "execute_result"
    }
   ],
   "source": [
    "df.shape"
   ]
  },
  {
   "cell_type": "markdown",
   "metadata": {},
   "source": [
    "118 proteins"
   ]
  },
  {
   "cell_type": "markdown",
   "metadata": {},
   "source": [
    "# Localization prediction\n",
    "\n",
    "First, extract protein sequences:"
   ]
  },
  {
   "cell_type": "code",
   "execution_count": 9,
   "metadata": {},
   "outputs": [],
   "source": [
    "p = ''\n",
    "get = False\n",
    "\n",
    "with open('data/protein_f.fasta', 'w') as f_w:\n",
    "    with open('data/protein.fasta', 'r') as f:\n",
    "        for l in f:\n",
    "            if l[0] == '>':\n",
    "                if l[1:-1] in df.sacc.values:\n",
    "                    get = True\n",
    "                    p = l\n",
    "            else:\n",
    "                if get:\n",
    "                    f_w.write(p)\n",
    "                    f_w.write(l)\n",
    "                    get = False"
   ]
  },
  {
   "cell_type": "markdown",
   "metadata": {},
   "source": [
    "Result:\n",
    "\n",
    "`grep -c \">\" protein_f.fasta`\n",
    "\n",
    "Output: `34`\n",
    "\n",
    "34 proteins"
   ]
  },
  {
   "cell_type": "markdown",
   "metadata": {},
   "source": [
    "## WoLF PSORT\n",
    "\n",
    "Input:\n",
    "\n",
    "<img src=\"imgs/wolf.png\">\n",
    "\n",
    "Result:\n",
    "\n",
    "```\n",
    "g702 details extr: 29, plas: 2, lyso: 1 \n",
    "g1285 details extr: 25, plas: 5, mito: 1, lyso: 1 \n",
    "g2203 details plas: 29, nucl: 2, golg: 1 g3428 details mito: 18, cyto: 11, extr: 2, nucl: 1 \n",
    "g3679 details extr: 26, mito: 2, lyso: 2, plas: 1, E.R.: 1 \n",
    "g4106 details E.R.: 14.5, E.R._golg: 9.5, extr: 7, golg: 3.5, lyso: 3, pero: 2, plas: 1, mito: 1 \n",
    "g4970 details plas: 32 \n",
    "g5237 details plas: 24, mito: 8 \n",
    "g5443 details extr: 28, nucl: 3, cyto: 1 \n",
    "g5467 details extr: 27, plas: 4, mito: 1 \n",
    "g5502 details extr: 31, lyso: 1 \n",
    "g5503 details extr: 29, plas: 1, mito: 1, lyso: 1 \n",
    "g5510 details plas: 23, mito: 7, E.R.: 1, golg: 1 \n",
    "g5616 details extr: 31, mito: 1 \n",
    "g5641 details extr: 31, lyso: 1 \n",
    "g5927 details nucl: 30.5, cyto_nucl: 16.5, cyto: 1.5 \n",
    "g7861 details nucl: 16, cyto_nucl: 14, cyto: 8, plas: 5, pero: 1, cysk: 1, golg: 1 \n",
    "g8100 details nucl: 16.5, cyto_nucl: 12.5, cyto: 7.5, plas: 5, extr: 2, E.R.: 1 \n",
    "g8312 details nucl: 15.5, cyto_nucl: 15.5, cyto: 12.5, mito: 2, plas: 1, golg: 1 \n",
    "g10513 details nucl: 20, cyto_nucl: 14.5, cyto: 7, extr: 3, E.R.: 1, golg: 1 \n",
    "g10514 details nucl: 19, cyto_nucl: 15, cyto: 9, extr: 3, mito: 1 \n",
    "g11320 details plas: 24.5, extr_plas: 16, extr: 6.5, lyso: 1 \n",
    "g11513 details cyto: 17, cyto_nucl: 12.8333, cyto_mito: 9.83333, nucl: 7.5, E.R.: 3, mito: 1.5, plas: 1, pero: 1, golg: 1 \n",
    "g11806 details nucl: 18, cyto_nucl: 11.8333, mito: 5, extr: 4, cyto: 3.5, cyto_pero: 2.66667, cysk_plas: 1 \n",
    "g11960 details nucl: 32 \n",
    "g12388 details extr: 25, plas: 4, mito: 2, lyso: 1 \n",
    "g12510 details plas: 29, cyto: 3 g12562 details extr: 30, lyso: 2 g13530 details extr: 13, nucl: 6.5, lyso: 5, cyto_nucl: 4.5, plas: 3, E.R.: 3, cyto: 1.5 g14472 details nucl: 28, plas: 2, cyto: 1, cysk: 1 \n",
    "g15153 details extr: 32 \n",
    "g15484 details nucl: 17.5, cyto_nucl: 15.3333, cyto: 12, cyto_mito: 6.83333, plas: 1, golg: 1 \n",
    "g16318 details nucl: 20.5, cyto_nucl: 13, extr: 5, cyto: 4.5, E.R.: 1, golg: 1 \n",
    "g16368 details nucl: 20.5, cyto_nucl: 13, extr: 5, cyto: 4.5, E.R.: 1, golg: 1\n",
    "```"
   ]
  },
  {
   "cell_type": "markdown",
   "metadata": {},
   "source": [
    "## TargetP\n",
    "\n",
    "Input:\n",
    "\n",
    "<img src=\"imgs/tarpetp.png\">\n",
    "\n",
    "Output:\n",
    "\n",
    "http://www.cbs.dtu.dk/cgi-bin/webface2.fcgi?jobid=603B662900007740714C3A10&wait=20"
   ]
  },
  {
   "cell_type": "markdown",
   "metadata": {},
   "source": [
    "## BLAST search\n",
    "\n",
    "Input:\n",
    "\n",
    "<img src=\"imgs/blast.png\">\n",
    "\n",
    "Result:\n",
    "\n",
    "https://blast.ncbi.nlm.nih.gov/Blast.cgi?CMD=Web&PAGE_TYPE=BlastSearch&VIEW_SEARCH=on&UNIQ_SEARCH_NAME=A_SearchOptions_1lGKSJ_XC8_dpnwYp5E25R_GTXQl_S1duU"
   ]
  },
  {
   "cell_type": "markdown",
   "metadata": {},
   "source": [
    "## Pfam prediction\n",
    "\n",
    "Input:\n",
    "\n",
    "<img src=\"imgs/pfam.png\">\n",
    "\n",
    "Result:\n",
    "\n",
    "https://www.ebi.ac.uk/Tools/hmmer/results/CBB33FA8-79B9-11EB-A762-350ADCC3747A/score\n",
    "\n",
    "<img src=\"imgs/pfamr.png\">"
   ]
  },
  {
   "cell_type": "markdown",
   "metadata": {},
   "source": [
    "# Results\n",
    "\n",
    "Next, we combine all results in one table and have next table:"
   ]
  },
  {
   "cell_type": "code",
   "execution_count": 13,
   "metadata": {},
   "outputs": [
    {
     "data": {
      "text/html": [
       "<div>\n",
       "<style scoped>\n",
       "    .dataframe tbody tr th:only-of-type {\n",
       "        vertical-align: middle;\n",
       "    }\n",
       "\n",
       "    .dataframe tbody tr th {\n",
       "        vertical-align: top;\n",
       "    }\n",
       "\n",
       "    .dataframe thead th {\n",
       "        text-align: right;\n",
       "    }\n",
       "</style>\n",
       "<table border=\"1\" class=\"dataframe\">\n",
       "  <thead>\n",
       "    <tr style=\"text-align: right;\">\n",
       "      <th></th>\n",
       "      <th>Protein</th>\n",
       "      <th>E-value</th>\n",
       "      <th>WoLF</th>\n",
       "      <th>TargetP</th>\n",
       "      <th>BLAST</th>\n",
       "      <th>HMMER</th>\n",
       "    </tr>\n",
       "  </thead>\n",
       "  <tbody>\n",
       "    <tr>\n",
       "      <th>0</th>\n",
       "      <td>g702</td>\n",
       "      <td>1.450000e-11</td>\n",
       "      <td>extr</td>\n",
       "      <td>SP</td>\n",
       "      <td>P0DPW4.1</td>\n",
       "      <td>Chitin binding Peritrophin-A domain</td>\n",
       "    </tr>\n",
       "    <tr>\n",
       "      <th>1</th>\n",
       "      <td>g1285</td>\n",
       "      <td>1.740000e-12</td>\n",
       "      <td>extr</td>\n",
       "      <td>SP</td>\n",
       "      <td>P0DPW4.1</td>\n",
       "      <td>Chitin binding Peritrophin-A domain</td>\n",
       "    </tr>\n",
       "    <tr>\n",
       "      <th>2</th>\n",
       "      <td>g2203</td>\n",
       "      <td>2.380000e-126</td>\n",
       "      <td>plas</td>\n",
       "      <td>OTHER</td>\n",
       "      <td>Q69ZQ1.2</td>\n",
       "      <td>Glycosyl hydrolases family 31</td>\n",
       "    </tr>\n",
       "    <tr>\n",
       "      <th>3</th>\n",
       "      <td>g3428</td>\n",
       "      <td>8.530000e-65</td>\n",
       "      <td>mito cyto</td>\n",
       "      <td>OTHER</td>\n",
       "      <td>Q09510.1</td>\n",
       "      <td>NaN</td>\n",
       "    </tr>\n",
       "    <tr>\n",
       "      <th>4</th>\n",
       "      <td>g3679</td>\n",
       "      <td>7.240000e-22</td>\n",
       "      <td>extr</td>\n",
       "      <td>SP</td>\n",
       "      <td>Q19269.2</td>\n",
       "      <td>Astacin (Peptidase family M12A)</td>\n",
       "    </tr>\n",
       "    <tr>\n",
       "      <th>5</th>\n",
       "      <td>g4970</td>\n",
       "      <td>3.990000e-16</td>\n",
       "      <td>plas</td>\n",
       "      <td>OTHER</td>\n",
       "      <td>P97435.1</td>\n",
       "      <td>Trypsin</td>\n",
       "    </tr>\n",
       "    <tr>\n",
       "      <th>6</th>\n",
       "      <td>g5467</td>\n",
       "      <td>3.810000e-13</td>\n",
       "      <td>extr</td>\n",
       "      <td>SP</td>\n",
       "      <td>P0DPW4.1</td>\n",
       "      <td>Chitin binding Peritrophin-A domain</td>\n",
       "    </tr>\n",
       "    <tr>\n",
       "      <th>7</th>\n",
       "      <td>g5502</td>\n",
       "      <td>5.670000e-14</td>\n",
       "      <td>extr</td>\n",
       "      <td>SP</td>\n",
       "      <td>P0DPW4.1</td>\n",
       "      <td>Chitin binding Peritrophin-A domain</td>\n",
       "    </tr>\n",
       "    <tr>\n",
       "      <th>8</th>\n",
       "      <td>g5503</td>\n",
       "      <td>6.560000e-14</td>\n",
       "      <td>extr</td>\n",
       "      <td>SP</td>\n",
       "      <td>P0DPW4.1</td>\n",
       "      <td>Chitin binding Peritrophin-A domain</td>\n",
       "    </tr>\n",
       "    <tr>\n",
       "      <th>9</th>\n",
       "      <td>g5616</td>\n",
       "      <td>2.190000e-14</td>\n",
       "      <td>extr</td>\n",
       "      <td>SP</td>\n",
       "      <td>P0DPW4.1</td>\n",
       "      <td>Chitin binding Peritrophin-A domain</td>\n",
       "    </tr>\n",
       "    <tr>\n",
       "      <th>10</th>\n",
       "      <td>g5641</td>\n",
       "      <td>4.980000e-13</td>\n",
       "      <td>extr</td>\n",
       "      <td>SP</td>\n",
       "      <td>P0DPW4.1</td>\n",
       "      <td>Chitin binding Peritrophin-A domain</td>\n",
       "    </tr>\n",
       "    <tr>\n",
       "      <th>11</th>\n",
       "      <td>g5927</td>\n",
       "      <td>1.050000e-18</td>\n",
       "      <td>nucl cyto_nucl</td>\n",
       "      <td>OTHER</td>\n",
       "      <td>Q17427.1</td>\n",
       "      <td>NaN</td>\n",
       "    </tr>\n",
       "    <tr>\n",
       "      <th>12</th>\n",
       "      <td>g7861</td>\n",
       "      <td>1.530000e-71</td>\n",
       "      <td>nucl cyto_nucl</td>\n",
       "      <td>OTHER</td>\n",
       "      <td>B4F769.1</td>\n",
       "      <td>SNF2 family N-terminal domain</td>\n",
       "    </tr>\n",
       "    <tr>\n",
       "      <th>13</th>\n",
       "      <td>g8100</td>\n",
       "      <td>2.920000e-46</td>\n",
       "      <td>nucl cyto_nucl</td>\n",
       "      <td>OTHER</td>\n",
       "      <td>Q2YDR3.1</td>\n",
       "      <td>Inositol monophosphatase family</td>\n",
       "    </tr>\n",
       "    <tr>\n",
       "      <th>14</th>\n",
       "      <td>g8312</td>\n",
       "      <td>0.000000e+00</td>\n",
       "      <td>nucl cyto_nucl cyto</td>\n",
       "      <td>OTHER</td>\n",
       "      <td>Q5KU39.1</td>\n",
       "      <td>Region in Clathrin and VPS</td>\n",
       "    </tr>\n",
       "    <tr>\n",
       "      <th>15</th>\n",
       "      <td>g11513</td>\n",
       "      <td>6.530000e-83</td>\n",
       "      <td>cyto cyto_nucl</td>\n",
       "      <td>OTHER</td>\n",
       "      <td>Q32PH0.1</td>\n",
       "      <td>Transport protein Trs120 or TRAPPC9, TRAPP II ...</td>\n",
       "    </tr>\n",
       "    <tr>\n",
       "      <th>16</th>\n",
       "      <td>g11960</td>\n",
       "      <td>6.060000e-98</td>\n",
       "      <td>nucl</td>\n",
       "      <td>OTHER</td>\n",
       "      <td>Q8CJB9.1</td>\n",
       "      <td>Zinc finger, C3HC4 type (RING finger)</td>\n",
       "    </tr>\n",
       "    <tr>\n",
       "      <th>17</th>\n",
       "      <td>g12388</td>\n",
       "      <td>2.690000e-11</td>\n",
       "      <td>extr</td>\n",
       "      <td>SP</td>\n",
       "      <td>P0DPW4.1</td>\n",
       "      <td>Chitin binding Peritrophin-A domain</td>\n",
       "    </tr>\n",
       "    <tr>\n",
       "      <th>18</th>\n",
       "      <td>g12562</td>\n",
       "      <td>6.970000e-13</td>\n",
       "      <td>extr</td>\n",
       "      <td>SP</td>\n",
       "      <td>P0DPW4.1</td>\n",
       "      <td>Chitin binding Peritrophin-A domain</td>\n",
       "    </tr>\n",
       "    <tr>\n",
       "      <th>19</th>\n",
       "      <td>g15153</td>\n",
       "      <td>1.840000e-14</td>\n",
       "      <td>extr</td>\n",
       "      <td>SP</td>\n",
       "      <td>P0DPW4.1</td>\n",
       "      <td>Chitin binding Peritrophin-A domain</td>\n",
       "    </tr>\n",
       "    <tr>\n",
       "      <th>20</th>\n",
       "      <td>g15484</td>\n",
       "      <td>0.000000e+00</td>\n",
       "      <td>nucl cyto_nucl cyto</td>\n",
       "      <td>OTHER</td>\n",
       "      <td>Q155U0.1</td>\n",
       "      <td>Vps51/Vps67</td>\n",
       "    </tr>\n",
       "    <tr>\n",
       "      <th>21</th>\n",
       "      <td>g16318</td>\n",
       "      <td>4.050000e-08</td>\n",
       "      <td>nucl cyto_nucl</td>\n",
       "      <td>OTHER</td>\n",
       "      <td>A2VD00.1</td>\n",
       "      <td>NaN</td>\n",
       "    </tr>\n",
       "    <tr>\n",
       "      <th>22</th>\n",
       "      <td>g16368</td>\n",
       "      <td>1.180000e-05</td>\n",
       "      <td>nucl cyto_nucl</td>\n",
       "      <td>OTHER</td>\n",
       "      <td>A4II09.1</td>\n",
       "      <td>NaN</td>\n",
       "    </tr>\n",
       "  </tbody>\n",
       "</table>\n",
       "</div>"
      ],
      "text/plain": [
       "   Protein        E-value                 WoLF TargetP     BLAST  \\\n",
       "0     g702   1.450000e-11                 extr      SP  P0DPW4.1   \n",
       "1    g1285   1.740000e-12                 extr      SP  P0DPW4.1   \n",
       "2    g2203  2.380000e-126                 plas   OTHER  Q69ZQ1.2   \n",
       "3    g3428   8.530000e-65            mito cyto   OTHER  Q09510.1   \n",
       "4    g3679   7.240000e-22                 extr      SP  Q19269.2   \n",
       "5    g4970   3.990000e-16                 plas   OTHER  P97435.1   \n",
       "6    g5467   3.810000e-13                 extr      SP  P0DPW4.1   \n",
       "7    g5502   5.670000e-14                 extr      SP  P0DPW4.1   \n",
       "8    g5503   6.560000e-14                 extr      SP  P0DPW4.1   \n",
       "9    g5616   2.190000e-14                 extr      SP  P0DPW4.1   \n",
       "10   g5641   4.980000e-13                 extr      SP  P0DPW4.1   \n",
       "11   g5927   1.050000e-18       nucl cyto_nucl   OTHER  Q17427.1   \n",
       "12   g7861   1.530000e-71       nucl cyto_nucl   OTHER  B4F769.1   \n",
       "13   g8100   2.920000e-46       nucl cyto_nucl   OTHER  Q2YDR3.1   \n",
       "14   g8312   0.000000e+00  nucl cyto_nucl cyto   OTHER  Q5KU39.1   \n",
       "15  g11513   6.530000e-83       cyto cyto_nucl   OTHER  Q32PH0.1   \n",
       "16  g11960   6.060000e-98                 nucl   OTHER  Q8CJB9.1   \n",
       "17  g12388   2.690000e-11                 extr      SP  P0DPW4.1   \n",
       "18  g12562   6.970000e-13                 extr      SP  P0DPW4.1   \n",
       "19  g15153   1.840000e-14                 extr      SP  P0DPW4.1   \n",
       "20  g15484   0.000000e+00  nucl cyto_nucl cyto   OTHER  Q155U0.1   \n",
       "21  g16318   4.050000e-08       nucl cyto_nucl   OTHER  A2VD00.1   \n",
       "22  g16368   1.180000e-05       nucl cyto_nucl   OTHER  A4II09.1   \n",
       "\n",
       "                                                HMMER  \n",
       "0                 Chitin binding Peritrophin-A domain  \n",
       "1                 Chitin binding Peritrophin-A domain  \n",
       "2                       Glycosyl hydrolases family 31  \n",
       "3                                                 NaN  \n",
       "4                     Astacin (Peptidase family M12A)  \n",
       "5                                             Trypsin  \n",
       "6                 Chitin binding Peritrophin-A domain  \n",
       "7                 Chitin binding Peritrophin-A domain  \n",
       "8                 Chitin binding Peritrophin-A domain  \n",
       "9                 Chitin binding Peritrophin-A domain  \n",
       "10                Chitin binding Peritrophin-A domain  \n",
       "11                                                NaN  \n",
       "12                      SNF2 family N-terminal domain  \n",
       "13                    Inositol monophosphatase family  \n",
       "14                         Region in Clathrin and VPS  \n",
       "15  Transport protein Trs120 or TRAPPC9, TRAPP II ...  \n",
       "16              Zinc finger, C3HC4 type (RING finger)  \n",
       "17                Chitin binding Peritrophin-A domain  \n",
       "18                Chitin binding Peritrophin-A domain  \n",
       "19                Chitin binding Peritrophin-A domain  \n",
       "20                                        Vps51/Vps67  \n",
       "21                                                NaN  \n",
       "22                                                NaN  "
      ]
     },
     "execution_count": 13,
     "metadata": {},
     "output_type": "execute_result"
    }
   ],
   "source": [
    "df_r = pd.read_csv('data/result.csv')\n",
    "df_r"
   ]
  },
  {
   "cell_type": "code",
   "execution_count": null,
   "metadata": {},
   "outputs": [],
   "source": []
  }
 ],
 "metadata": {
  "kernelspec": {
   "display_name": "Python 3",
   "language": "python",
   "name": "python3"
  },
  "language_info": {
   "codemirror_mode": {
    "name": "ipython",
    "version": 3
   },
   "file_extension": ".py",
   "mimetype": "text/x-python",
   "name": "python",
   "nbconvert_exporter": "python",
   "pygments_lexer": "ipython3",
   "version": "3.8.6"
  }
 },
 "nbformat": 4,
 "nbformat_minor": 1
}